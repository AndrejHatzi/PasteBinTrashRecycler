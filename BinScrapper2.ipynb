{
 "cells": [
  {
   "cell_type": "code",
   "execution_count": 2,
   "metadata": {},
   "outputs": [],
   "source": [
    "from selenium import webdriver;\n",
    "from selenium.webdriver.common.keys import Keys;\n",
    "from selenium.webdriver.firefox.options import Options;\n",
    "from typing import List, Tuple, Dict;\n",
    "import time;\n",
    "import re;\n",
    "qtLinks : List[str] = []; #Memory;"
   ]
  },
  {
   "cell_type": "code",
   "execution_count": 2,
   "metadata": {},
   "outputs": [],
   "source": [
    "def bootDriver(visible:bool)->None:\n",
    "    options=Options();\n",
    "    options.headless= visible;\n",
    "    driver=webdriver.Firefox(options=options);\n",
    "    return driver;"
   ]
  },
  {
   "cell_type": "code",
   "execution_count": 3,
   "metadata": {},
   "outputs": [],
   "source": [
    "def getLinks(driver)->None:\n",
    "    ignore_list : List[str] = ['https://pastebin.com/pro', 'https://pastebin.com/api', 'https://pastebin.com/tools', 'https://pastebin.com/faq', 'https://deals.pastebin.com/', 'https://pastebin.com/login', 'https://pastebin.com/login', 'https://pastebin.com/messages', 'https://pastebin.com/alerts', 'https://pastebin.com/settings', 'https://pastebin.com/archive', 'https://pastebin.com/pro?help=1', 'https://pastebin.com/pro?help=1', 'https://pastebin.com/signup', 'https://pastebin.com/login', 'https://pastebin.com/signup', 'https://pastebin.com/login', 'https://pastebin.com/doc_cookies_policy', 'https://srv.carbonads.net/ads/click/x/GTND42QWCAAD4K77F674YKQMCESI52Q7F6SDTZ3JCWBD55QLCWBD5K7KC6BIV27YC67DEK3EHJNCLSIZ?segment=placement:pastebincom;', 'https://srv.carbonads.net/ads/click/x/GTND42QWCAAD4K77F674YKQMCESI52Q7F6SDTZ3JCWBD55QLCWBD5K7KC6BIV27YC67DEK3EHJNCLSIZ?segment=placement:pastebincom;', 'http://carbonads.net/?utm_source=pastebincom&utm_medium=ad_via_link&utm_campaign=in_unit&utm_term=carbon', 'https://pastebin.com/tools#chrome', 'https://pastebin.com/tools#firefox', 'https://pastebin.com/tools#iphone', 'https://pastebin.com/tools#windows', 'https://pastebin.com/tools#android', 'https://pastebin.com/tools#macos', 'https://pastebin.com/tools#opera', 'https://pastebin.com/tools#pastebincl', 'https://pastebin.com/', 'https://deals.pastebin.com/', 'https://pastebin.com/languages', 'https://pastebin.com/archive', 'https://pastebin.com/faq', 'https://pastebin.com/tools', 'https://pastebin.com/night_mode', 'https://pastebin.com/api', 'https://pastebin.com/doc_scraping_api', 'https://pastebin.com/pro', 'https://pastebin.com/doc_privacy_statement', 'https://pastebin.com/doc_cookies_policy', 'https://pastebin.com/doc_terms_of_service', 'https://pastebin.com/doc_security_disclosure', 'https://pastebin.com/dmca', 'https://pastebin.com/contact', 'https://pastebin.com/doc_cookies_policy', 'http://creativecommons.org/licenses/by-sa/3.0/', 'http://steadfast.net/services/dedicated-servers.php?utm_source=pastebin.com&utm_medium=referral&utm_content=footer_link_dedicated_server_hosting_by&utm_campaign=referral_20140118_x_x_pastebin_partner&source=referral_20140118_x_x_pastebin_partner', 'http://steadfast.net/?utm_source=pastebin.com&utm_medium=referral&utm_content=footer_link_steadfast&utm_campaign=referral_20140118_x_x_pastebin_partner&source=referral_20140118_x_x_pastebin_partner', 'https://facebook.com/pastebin', 'https://twitter.com/pastebin', 'https://pastebin.com/#0', 'https://srv.carbonads.net/ads/click/x/GTND42QWCAAI6KJJCW74YKQMCESIE2QICEADTZ3JCWBD553JF6YD5K3KC6BIV27YF6AI6K3EHJNCLSIZ?segment=placement:pastebincom;', 'https://pastebin.com/archive/text', \"ads\", \"/embed/\", \"/dl/\", \"/raw/\", \"https://pastebin.com/night_mode\", \"https://favpng.com/\"];\n",
    "    driver.get('https://pastebin.com/')\n",
    "    driver.refresh()\n",
    "    elems = driver.find_elements_by_xpath(\"//a[@href]\");\n",
    "    for e in elems:\n",
    "        link = (e.get_attribute(\"href\"));\n",
    "        if link not in ignore_list:\n",
    "            qtLinks.append(link);"
   ]
  },
  {
   "cell_type": "code",
   "execution_count": 4,
   "metadata": {},
   "outputs": [],
   "source": [
    "def ContentAnalysis(content)->bool:\n",
    "    patterns : List[str] = [\"@gmail.com\", \"username\", \"login\", \"password\", \"wp-\", \"email\", \"drive\", \".nz\", \"Password\", \"admin\", \"http\", \"@\"];\n",
    "    act : bool = False;\n",
    "    print(\"?>\");\n",
    "    if content in patterns:\n",
    "        act = True;\n",
    "        print(\"match\", content);\n",
    "    elif re.match(r\"[^@]+@[^@]+\\.[^@]+\", content):\n",
    "        act = True;\n",
    "        print(\"match\", content);\n",
    "    elif re.match(r\"^\\d{1,3}\\.\\d{1,3}\\.\\d{1,3}\\.\\d{1,3}$\", content):\n",
    "        act = True;\n",
    "        print(\"match\", content);\n",
    "    return act;"
   ]
  },
  {
   "cell_type": "code",
   "execution_count": null,
   "metadata": {},
   "outputs": [],
   "source": [
    "if(ContentAnalysis(content.text)):\n",
    "                with open(\"index.html\", \"a\") as f:\n",
    "                    f.write(\"<textarea rows='8' cols='80'>\\n\");\n",
    "                    f.write(\"{}\\n\".format(content.text));\n",
    "                    f.write(\"</textarea>\\n\");"
   ]
  },
  {
   "cell_type": "code",
   "execution_count": 3,
   "metadata": {},
   "outputs": [],
   "source": [
    "def downloadLinks(driver)->None:\n",
    "    for i in range(len(qtLinks)):\n",
    "        driver.get(qtLinks[i]);\n",
    "        print(i);\n",
    "        try:\n",
    "            content = driver.find_element_by_id('selectable');\n",
    "            print(content);\n",
    "            with open(i, \"w+\") as fl:\n",
    "                fl.write(content.text);\n",
    "        except:\n",
    "            pass;\n",
    "            #with open(\"ignore.ls\", \"a\") as f:\n",
    "                #f.write((\"{}\\n\").format(qtLinks[i]));"
   ]
  },
  {
   "cell_type": "code",
   "execution_count": 10,
   "metadata": {},
   "outputs": [],
   "source": [
    "def main():\n",
    "    #lpr : int = 0;\n",
    "    #if (lpr < 1):\n",
    "    #    driver = bootDriver(True);\n",
    "    #elif (lpr == 2):\n",
    "    #    return\n",
    "    driver = bootDriver(False);\n",
    "    getLinks(driver);\n",
    "    print(qtLinks);\n",
    "    downloadLinks(driver);\n",
    "    #lpr += 1;\n",
    "    #main();\n",
    "    "
   ]
  },
  {
   "cell_type": "code",
   "execution_count": 11,
   "metadata": {},
   "outputs": [
    {
     "name": "stdout",
     "output_type": "stream",
     "text": [
      "['https://pastebin.com/m1Cjjm1T', 'https://pastebin.com/kZPwAMNe', 'https://pastebin.com/AEXLfdeT', 'https://pastebin.com/z1UCBKpM', 'https://pastebin.com/Jp92W2hV', 'https://pastebin.com/FRWB8vru', 'https://pastebin.com/eG37PTNr', 'https://pastebin.com/mAMMJsSz', 'https://rtr.innovid.com/r1.5dfb7920ba1e58.63939507?obOrigUrl=true', 'https://www.outbrain.com/what-is/default/en', 'https://pastebin.com/9gKTAEf0', 'https://pastebin.com/KnnDC6ng', 'https://pastebin.com/RdNRn9xA', 'https://pastebin.com/6tUvQqu7', 'https://pastebin.com/CpEi08Hj', 'https://pastebin.com/T5x89Jqb', 'https://pastebin.com/0HfYAnNA', 'https://pastebin.com/yUVX5DsQ', 'https://pastebin.com/WSYkM8Ax', 'https://pastebin.com/XX7sxvCP', 'https://pastebin.com/9VgwCQMJ', 'https://pastebin.com/ypVVgygR', 'https://pastebin.com/2HJE6X9G', 'https://pastebin.com/zdqVE3Qz', 'https://pastebin.com/tUsMJmS1', 'https://pastebin.com/vWVXWYcC']\n"
     ]
    }
   ],
   "source": [
    "main()"
   ]
  },
  {
   "cell_type": "code",
   "execution_count": 27,
   "metadata": {},
   "outputs": [
    {
     "name": "stdout",
     "output_type": "stream",
     "text": [
      "['https://pastebin.com/m1Cjjm1T', 'https://pastebin.com/kZPwAMNe', 'https://pastebin.com/AEXLfdeT', 'https://pastebin.com/z1UCBKpM', 'https://pastebin.com/Jp92W2hV', 'https://pastebin.com/FRWB8vru', 'https://pastebin.com/eG37PTNr', 'https://pastebin.com/mAMMJsSz', 'https://rtr.innovid.com/r1.5dfb7920ba1e58.63939507?obOrigUrl=true', 'https://www.outbrain.com/what-is/default/en', 'https://pastebin.com/9gKTAEf0', 'https://pastebin.com/KnnDC6ng', 'https://pastebin.com/RdNRn9xA', 'https://pastebin.com/6tUvQqu7', 'https://pastebin.com/CpEi08Hj', 'https://pastebin.com/T5x89Jqb', 'https://pastebin.com/0HfYAnNA', 'https://pastebin.com/yUVX5DsQ', 'https://pastebin.com/WSYkM8Ax', 'https://pastebin.com/XX7sxvCP', 'https://pastebin.com/9VgwCQMJ', 'https://pastebin.com/ypVVgygR', 'https://pastebin.com/2HJE6X9G', 'https://pastebin.com/zdqVE3Qz', 'https://pastebin.com/tUsMJmS1', 'https://pastebin.com/vWVXWYcC']\n"
     ]
    }
   ],
   "source": [
    "print(qtLinks)"
   ]
  },
  {
   "cell_type": "code",
   "execution_count": 7,
   "metadata": {},
   "outputs": [],
   "source": [
    "qtLinks = ['https://pastebin.com/m1Cjjm1T', 'https://pastebin.com/kZPwAMNe', 'https://pastebin.com/AEXLfdeT', 'https://pastebin.com/z1UCBKpM', 'https://pastebin.com/Jp92W2hV', 'https://pastebin.com/FRWB8vru', 'https://pastebin.com/eG37PTNr', 'https://pastebin.com/mAMMJsSz', 'https://rtr.innovid.com/r1.5dfb7920ba1e58.63939507?obOrigUrl=true', 'https://www.outbrain.com/what-is/default/en', 'https://pastebin.com/9gKTAEf0', 'https://pastebin.com/KnnDC6ng', 'https://pastebin.com/RdNRn9xA', 'https://pastebin.com/6tUvQqu7', 'https://pastebin.com/CpEi08Hj', 'https://pastebin.com/T5x89Jqb', 'https://pastebin.com/0HfYAnNA', 'https://pastebin.com/yUVX5DsQ', 'https://pastebin.com/WSYkM8Ax', 'https://pastebin.com/XX7sxvCP', 'https://pastebin.com/9VgwCQMJ', 'https://pastebin.com/ypVVgygR', 'https://pastebin.com/2HJE6X9G', 'https://pastebin.com/zdqVE3Qz', 'https://pastebin.com/tUsMJmS1', 'https://pastebin.com/vWVXWYcC'];"
   ]
  },
  {
   "cell_type": "code",
   "execution_count": 4,
   "metadata": {},
   "outputs": [],
   "source": [
    "options=Options();\n",
    "options.headless= False;\n",
    "driver=webdriver.Firefox(options=options);"
   ]
  },
  {
   "cell_type": "code",
   "execution_count": 24,
   "metadata": {},
   "outputs": [],
   "source": [
    "driver.get(\"https://pastebin.com/m1Cjjm1T\");"
   ]
  },
  {
   "cell_type": "code",
   "execution_count": 25,
   "metadata": {},
   "outputs": [],
   "source": [
    "content = driver.find_element_by_id('selectable');"
   ]
  },
  {
   "cell_type": "code",
   "execution_count": 26,
   "metadata": {},
   "outputs": [
    {
     "name": "stdout",
     "output_type": "stream",
     "text": [
      "#include <iostream>\n",
      "  using namespace std;\n",
      "  float a, b, c;\n",
      "char d;\n",
      "int p;\n",
      "int main()\n",
      "{\n",
      "      while (p != 2)\n",
      "    {\n",
      "        cout << \"цифра 1 = запускает калькулятор \\nцифра 2 - выход из программы \\n\";\n",
      "        cin >> p;\n",
      "        switch (p)\n",
      "        {\n",
      "        case 1:\n",
      "        {\n",
      "           cout <<\"Первая цифра \";\n",
      "            cin >> a;\n",
      "            cout << \"Действие с числами \";\n",
      "            cin >> d;\n",
      "            cout << \"Вторая цифра \";\n",
      "            cin >> b;\n",
      "            if (d == '+')\n",
      "                c = a + b;\n",
      "            if (d == '-')\n",
      "                c = a - b;\n",
      "            if (d == '*')\n",
      "                c = a * b;\n",
      "            if (d == '/')\n",
      "                c = a / b;\n",
      "        }\n",
      "        case 2:\n",
      "        {\n",
      "            break;\n",
      "        }\n",
      "        }\n",
      "        cout << \"Получается = \" << c <<endl;\n",
      "    }\n",
      "}\n"
     ]
    }
   ],
   "source": [
    "print(content.text);"
   ]
  },
  {
   "cell_type": "code",
   "execution_count": null,
   "metadata": {},
   "outputs": [
    {
     "name": "stdout",
     "output_type": "stream",
     "text": [
      "0\n",
      "<selenium.webdriver.firefox.webelement.FirefoxWebElement (session=\"21c3ae10-dfc6-48e3-b242-964269ded581\", element=\"254d90b1-aa5f-41da-b62f-ffbadc516d50\")>\n",
      "1\n",
      "<selenium.webdriver.firefox.webelement.FirefoxWebElement (session=\"21c3ae10-dfc6-48e3-b242-964269ded581\", element=\"2bb5db85-b835-439a-9f89-c7f53a13f433\")>\n",
      "2\n",
      "<selenium.webdriver.firefox.webelement.FirefoxWebElement (session=\"21c3ae10-dfc6-48e3-b242-964269ded581\", element=\"a8175ade-d323-4acb-a0a9-61e71bd7d5a7\")>\n",
      "3\n",
      "<selenium.webdriver.firefox.webelement.FirefoxWebElement (session=\"21c3ae10-dfc6-48e3-b242-964269ded581\", element=\"fa21ef15-0cbb-456b-aee0-e3cb5dad74e4\")>\n",
      "4\n",
      "<selenium.webdriver.firefox.webelement.FirefoxWebElement (session=\"21c3ae10-dfc6-48e3-b242-964269ded581\", element=\"30b6c03a-d0de-4f34-9fe0-e421caf3c0cd\")>\n",
      "5\n",
      "<selenium.webdriver.firefox.webelement.FirefoxWebElement (session=\"21c3ae10-dfc6-48e3-b242-964269ded581\", element=\"a6da0860-467b-4490-b606-5d778fa27247\")>\n",
      "6\n",
      "<selenium.webdriver.firefox.webelement.FirefoxWebElement (session=\"21c3ae10-dfc6-48e3-b242-964269ded581\", element=\"ec2c043e-01fc-4af5-9052-8fc3971b72c0\")>\n"
     ]
    }
   ],
   "source": [
    "downloadLinks(driver);"
   ]
  }
 ],
 "metadata": {
  "kernelspec": {
   "display_name": "Python 3",
   "language": "python",
   "name": "python3"
  },
  "language_info": {
   "codemirror_mode": {
    "name": "ipython",
    "version": 3
   },
   "file_extension": ".py",
   "mimetype": "text/x-python",
   "name": "python",
   "nbconvert_exporter": "python",
   "pygments_lexer": "ipython3",
   "version": "3.6.9"
  }
 },
 "nbformat": 4,
 "nbformat_minor": 2
}
