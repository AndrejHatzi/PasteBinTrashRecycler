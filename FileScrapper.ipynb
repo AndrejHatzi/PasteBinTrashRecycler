{
 "cells": [
  {
   "cell_type": "code",
   "execution_count": 1,
   "metadata": {},
   "outputs": [],
   "source": [
    "#!/usr/bin/env python\n",
    "# -*- coding: utf-8 -*-\n",
    "from selenium import webdriver\n",
    "from selenium.webdriver.common.keys import Keys\n",
    "from selenium.webdriver.firefox.options import Options\n",
    "import time"
   ]
  },
  {
   "cell_type": "code",
   "execution_count": 2,
   "metadata": {},
   "outputs": [],
   "source": [
    "fp = webdriver.FirefoxProfile()\n",
    "fp.set_preference(\"browser.preferences.instantApply\",True)\n",
    "fp.set_preference(\"browser.helperApps.neverAsk.saveToDisk\", \"application/octet-stream doc xls pdf txt\");\n",
    "fp.set_preference(\"browser.helperApps.alwaysAsk.force\",False)\n",
    "fp.set_preference(\"browser.download.manager.showWhenStarting\",False)\n",
    "fp.set_preference(\"browser.download.folderList\",0)\n",
    "\n",
    "# Open a browser and log in\n",
    "\n",
    "driver = webdriver.Firefox(firefox_profile=fp)"
   ]
  },
  {
   "cell_type": "code",
   "execution_count": 3,
   "metadata": {},
   "outputs": [],
   "source": [
    "driver.get('https://pastebin.com/')"
   ]
  },
  {
   "cell_type": "code",
   "execution_count": 4,
   "metadata": {},
   "outputs": [],
   "source": [
    "prebuilt_a_hrefs = ['https://pastebin.com/pro', 'https://pastebin.com/api', 'https://pastebin.com/tools', 'https://pastebin.com/faq', 'https://deals.pastebin.com/', 'https://pastebin.com/login', 'https://pastebin.com/login', 'https://pastebin.com/messages', 'https://pastebin.com/alerts', 'https://pastebin.com/settings', 'https://pastebin.com/archive', 'https://pastebin.com/pro?help=1', 'https://pastebin.com/pro?help=1', 'https://pastebin.com/signup', 'https://pastebin.com/login', 'https://pastebin.com/signup', 'https://pastebin.com/login', 'https://pastebin.com/doc_cookies_policy', 'https://srv.carbonads.net/ads/click/x/GTND42QWCAAD4K77F674YKQMCESI52Q7F6SDTZ3JCWBD55QLCWBD5K7KC6BIV27YC67DEK3EHJNCLSIZ?segment=placement:pastebincom;', 'https://srv.carbonads.net/ads/click/x/GTND42QWCAAD4K77F674YKQMCESI52Q7F6SDTZ3JCWBD55QLCWBD5K7KC6BIV27YC67DEK3EHJNCLSIZ?segment=placement:pastebincom;', 'http://carbonads.net/?utm_source=pastebincom&utm_medium=ad_via_link&utm_campaign=in_unit&utm_term=carbon', 'https://pastebin.com/tools#chrome', 'https://pastebin.com/tools#firefox', 'https://pastebin.com/tools#iphone', 'https://pastebin.com/tools#windows', 'https://pastebin.com/tools#android', 'https://pastebin.com/tools#macos', 'https://pastebin.com/tools#opera', 'https://pastebin.com/tools#pastebincl', 'https://pastebin.com/', 'https://deals.pastebin.com/', 'https://pastebin.com/languages', 'https://pastebin.com/archive', 'https://pastebin.com/faq', 'https://pastebin.com/tools', 'https://pastebin.com/night_mode', 'https://pastebin.com/api', 'https://pastebin.com/doc_scraping_api', 'https://pastebin.com/pro', 'https://pastebin.com/doc_privacy_statement', 'https://pastebin.com/doc_cookies_policy', 'https://pastebin.com/doc_terms_of_service', 'https://pastebin.com/doc_security_disclosure', 'https://pastebin.com/dmca', 'https://pastebin.com/contact', 'https://pastebin.com/doc_cookies_policy', 'http://creativecommons.org/licenses/by-sa/3.0/', 'http://steadfast.net/services/dedicated-servers.php?utm_source=pastebin.com&utm_medium=referral&utm_content=footer_link_dedicated_server_hosting_by&utm_campaign=referral_20140118_x_x_pastebin_partner&source=referral_20140118_x_x_pastebin_partner', 'http://steadfast.net/?utm_source=pastebin.com&utm_medium=referral&utm_content=footer_link_steadfast&utm_campaign=referral_20140118_x_x_pastebin_partner&source=referral_20140118_x_x_pastebin_partner', 'https://facebook.com/pastebin', 'https://twitter.com/pastebin', 'https://pastebin.com/#0', 'https://srv.carbonads.net/ads/click/x/GTND42QWCAAI6KJJCW74YKQMCESIE2QICEADTZ3JCWBD553JF6YD5K3KC6BIV27YF6AI6K3EHJNCLSIZ?segment=placement:pastebincom;', 'https://pastebin.com/archive/text']\n"
   ]
  },
  {
   "cell_type": "code",
   "execution_count": 5,
   "metadata": {},
   "outputs": [],
   "source": [
    "driver.refresh()\n",
    "elems = driver.find_elements_by_xpath(\"//a[@href]\")\n",
    "links_to_visit = []\n",
    "for elem in elems:\n",
    "    link = (elem.get_attribute(\"href\"))\n",
    "    if 'ads' not in link:\n",
    "        if '/embed/' not in link:\n",
    "            if '/dl/' not in link:\n",
    "                if '/raw/' not in link:\n",
    "                    if link not in prebuilt_a_hrefs:\n",
    "                        links_to_visit.append(link)\n",
    "        \n",
    "    #link = (elem.get_attribute(\"href\"))\n",
    "    #prebuilt_a_hrefs.append(link)\n",
    "    #print (elem.get_attribute(\"href\"))"
   ]
  },
  {
   "cell_type": "code",
   "execution_count": 6,
   "metadata": {
    "scrolled": true
   },
   "outputs": [
    {
     "name": "stdout",
     "output_type": "stream",
     "text": [
      "['https://pastebin.com/idsPGiHR', 'https://pastebin.com/X0sW3SHg', 'https://pastebin.com/cPnHTt9f', 'https://pastebin.com/VWF17kGf', 'https://pastebin.com/yJEQEp2v', 'https://pastebin.com/Q5y5epkL', 'https://pastebin.com/9mdDSDq2', 'https://pastebin.com/696GB4gv']\n"
     ]
    }
   ],
   "source": [
    "print(links_to_visit)"
   ]
  },
  {
   "cell_type": "code",
   "execution_count": 121,
   "metadata": {},
   "outputs": [],
   "source": [
    "driver.get(links_to_visit[0])"
   ]
  },
  {
   "cell_type": "code",
   "execution_count": 66,
   "metadata": {},
   "outputs": [],
   "source": []
  },
  {
   "cell_type": "code",
   "execution_count": 124,
   "metadata": {
    "scrolled": true
   },
   "outputs": [],
   "source": [
    "content = driver.find_element_by_id('selectable')"
   ]
  },
  {
   "cell_type": "code",
   "execution_count": 125,
   "metadata": {},
   "outputs": [
    {
     "name": "stdout",
     "output_type": "stream",
     "text": [
      "SYNONYMS = [\n",
      "  ('rate', 'ratings'),\n",
      "  ('approval', 'popularity'),\n",
      "]\n",
      "  QUERIES = [\n",
      "  ('obama approval rate', 'obama popularity ratings'),\n",
      "  ('obama approval rates', 'obama popularity ratings'),\n",
      "  ('obama approval rate', 'popularity ratings obama')\n",
      "]\n"
     ]
    }
   ],
   "source": [
    "print(content.text)"
   ]
  },
  {
   "cell_type": "code",
   "execution_count": null,
   "metadata": {
    "scrolled": true
   },
   "outputs": [],
   "source": []
  },
  {
   "cell_type": "code",
   "execution_count": 122,
   "metadata": {},
   "outputs": [],
   "source": [
    "download_button = driver.find_element_by_xpath('/html/body/div[1]/div[3]/div/div/div[2]/div[7]/div/div[1]/span[1]/a[2]');"
   ]
  },
  {
   "cell_type": "code",
   "execution_count": 123,
   "metadata": {},
   "outputs": [],
   "source": [
    "download_button.click()"
   ]
  },
  {
   "cell_type": "code",
   "execution_count": 7,
   "metadata": {},
   "outputs": [],
   "source": [
    "def on_load_download(prebuilt_a_hrefs):\n",
    "    r = 0\n",
    "    while r < 50:\n",
    "        driver.refresh()\n",
    "        elems = driver.find_elements_by_xpath(\"//a[@href]\")\n",
    "        links_to_visit = []\n",
    "        errors = []\n",
    "        for elem in elems:\n",
    "            link = (elem.get_attribute(\"href\"))\n",
    "            if 'ads' not in link:\n",
    "                if '/embed/' not in link:\n",
    "                    if '/dl/' not in link:\n",
    "                        if '/raw/' not in link:\n",
    "                            if link not in prebuilt_a_hrefs:\n",
    "                                links_to_visit.append(link)\n",
    "        errors = []\n",
    "        for i in range(len(links_to_visit)):\n",
    "            driver.get(links_to_visit[i])\n",
    "            dot_index = links_to_visit[i].index('.')\n",
    "            file_name = links_to_visit[i][dot_index+4:]\n",
    "            try:\n",
    "                content = driver.find_element_by_id('selectable')\n",
    "            except:\n",
    "                prebuilt_a_hrefs.append(links_to_visit[i])\n",
    "            file = file_name+\".txt\"\n",
    "            lcl = 'beautifulojn_trashojn/'+file\n",
    "            #print(file, links_to_visit[i])\n",
    "            try:\n",
    "                with open(lcl, 'w+') as f:\n",
    "                    try:\n",
    "                        f.write(content.text)\n",
    "                    except:\n",
    "                        errors.append(links_to_visit[i])\n",
    "\n",
    "            except:\n",
    "                print('@t', links_to_visit[i])\n",
    "                with open('usnfls.kak', 'a') as f:\n",
    "                    try:\n",
    "                        f.append(links_to_visit[i])\n",
    "                    except:\n",
    "                        errors.append(links_to_visit[i])\n",
    "        r += 1\n",
    "        print('@e', errors)\n",
    "\n",
    "    "
   ]
  },
  {
   "cell_type": "code",
   "execution_count": 8,
   "metadata": {
    "scrolled": true
   },
   "outputs": [
    {
     "name": "stdout",
     "output_type": "stream",
     "text": [
      "@e ['https://pastebin.com/idsPGiHR']\n",
      "@t https://pastebin.com/index/Q5y5epkL\n",
      "@t https://pastebin.com/report/Q5y5epkL\n",
      "@t https://pastebin.com/print/Q5y5epkL\n",
      "@e ['https://pastebin.com/idsPGiHR', 'https://pastebin.com/index/Q5y5epkL', 'https://pastebin.com/report/Q5y5epkL', 'https://pastebin.com/print/Q5y5epkL']\n",
      "@e ['https://pastebin.com/tUWKWSS0']\n",
      "@e []\n",
      "@e ['https://pastebin.com/SkMx7rhd', 'https://pastebin.com/PRDN5LDG']\n",
      "@e ['https://pastebin.com/SkMx7rhd', 'https://pastebin.com/PRDN5LDG']\n",
      "@e ['https://pastebin.com/ugcefkie']\n",
      "@e ['https://pastebin.com/JDyxvkVM', 'https://pastebin.com/h7qs7SHm']\n",
      "@e ['https://pastebin.com/qVd9WZMk', 'https://pastebin.com/JDyxvkVM', 'https://pastebin.com/h7qs7SHm']\n",
      "@e ['https://pastebin.com/dLbrmUKT', 'https://pastebin.com/qVd9WZMk', 'https://pastebin.com/JDyxvkVM']\n",
      "@e ['https://pastebin.com/dLbrmUKT']\n",
      "@e ['https://pastebin.com/GxY91FDg']\n",
      "@e ['https://pastebin.com/qAs3nGeH']\n",
      "@e ['https://pastebin.com/A1xa9bVg']\n",
      "@e ['https://pastebin.com/LhVdvn8B', 'https://pastebin.com/A1xa9bVg']\n",
      "@e []\n",
      "@e []\n",
      "@e []\n",
      "@e []\n",
      "@e []\n",
      "@e []\n",
      "@e ['https://pastebin.com/dBs2ABQX']\n",
      "@e ['https://pastebin.com/m3gQmpTX', 'https://pastebin.com/dBs2ABQX']\n",
      "@e []\n",
      "@e []\n",
      "@e ['https://pastebin.com/yTNpgtsU', 'https://pastebin.com/L446vaQf']\n",
      "@e ['https://pastebin.com/pQj700z5', 'https://pastebin.com/fmMJKJ8A', 'https://pastebin.com/yTNpgtsU']\n",
      "@e ['https://pastebin.com/pQj700z5', 'https://pastebin.com/fmMJKJ8A']\n",
      "@e ['https://pastebin.com/pQj700z5', 'https://pastebin.com/fmMJKJ8A']\n",
      "@e ['https://pastebin.com/1ULyz4Ev']\n",
      "@e ['https://pastebin.com/7icAHywg', 'https://pastebin.com/1ULyz4Ev']\n",
      "@e ['https://pastebin.com/Pn8hc7CY']\n",
      "@e ['https://pastebin.com/0rPDRTKA']\n",
      "@e ['https://pastebin.com/uznwuPqt']\n",
      "@e ['https://pastebin.com/RXXKAxXR', 'https://pastebin.com/q9DkTNez', 'https://pastebin.com/xmNcnDVA']\n",
      "@e ['https://pastebin.com/RXXKAxXR']\n",
      "@e ['https://pastebin.com/cCCCKqa0']\n",
      "@e ['https://pastebin.com/wi8kEXJC']\n",
      "@e ['https://pastebin.com/MxC5wJCx', 'https://pastebin.com/gUtVh9XV']\n",
      "@e ['https://pastebin.com/MdZMJxwf']\n",
      "@e ['https://pastebin.com/xGEtLhUq']\n",
      "@e ['https://pastebin.com/jJbsRxDT']\n",
      "@e ['https://pastebin.com/jJbsRxDT']\n",
      "@e ['https://pastebin.com/zPdhi8Cs']\n",
      "@e ['https://pastebin.com/JJgz8knA']\n",
      "@e []\n",
      "@e ['https://pastebin.com/tYSAjsZd']\n",
      "@e ['https://pastebin.com/6AwJKhtV', 'https://pastebin.com/fcrFYQSz']\n",
      "@e ['https://pastebin.com/6AwJKhtV', 'https://pastebin.com/fcrFYQSz']\n",
      "@e ['https://pastebin.com/Qsc2apH3']\n"
     ]
    }
   ],
   "source": [
    "on_load_download(prebuilt_a_hrefs)"
   ]
  },
  {
   "cell_type": "code",
   "execution_count": null,
   "metadata": {},
   "outputs": [],
   "source": []
  }
 ],
 "metadata": {
  "kernelspec": {
   "display_name": "Python 3",
   "language": "python",
   "name": "python3"
  },
  "language_info": {
   "codemirror_mode": {
    "name": "ipython",
    "version": 3
   },
   "file_extension": ".py",
   "mimetype": "text/x-python",
   "name": "python",
   "nbconvert_exporter": "python",
   "pygments_lexer": "ipython3",
   "version": "3.6.5"
  }
 },
 "nbformat": 4,
 "nbformat_minor": 2
}
