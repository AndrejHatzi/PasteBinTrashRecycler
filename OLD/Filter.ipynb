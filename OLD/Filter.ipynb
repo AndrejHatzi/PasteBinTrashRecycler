{
 "cells": [
  {
   "cell_type": "code",
   "execution_count": 10,
   "metadata": {},
   "outputs": [],
   "source": [
    "import os\n",
    "import shutil\n",
    "import re"
   ]
  },
  {
   "cell_type": "code",
   "execution_count": 15,
   "metadata": {},
   "outputs": [],
   "source": [
    "files = os.listdir('trash')"
   ]
  },
  {
   "cell_type": "code",
   "execution_count": null,
   "metadata": {},
   "outputs": [],
   "source": [
    "patterns = {\n",
    "    '' : '',\n",
    "    '' : ''\n",
    "}"
   ]
  },
  {
   "cell_type": "code",
   "execution_count": 12,
   "metadata": {
    "scrolled": true
   },
   "outputs": [],
   "source": [
    "patterns = ['string']\n",
    "has = False\n",
    "for i in range(len(files)):\n",
    "    with open('trash/'+files[i]) as f:\n",
    "         if (('@gmail.com' in f.read()) or ('username' in f.read()) or ('login' in f.read()) or ('password' in f.read()) or ('wp-' in f.read()) or ('email' in f.read()) or ('drive' in f.read()) or ('.nz' in f.read()) or ('Password' in f.read()) or ('admin'  in f.read()) or ('http' in f.read()) or ('@' in f.read())):\n",
    "                has = True\n",
    "    if has == True:\n",
    "        shutil.move(\"trash/{}\".format(files[i]), \"filter/{}\".format(files[i]))\n",
    "        has = False"
   ]
  },
  {
   "cell_type": "code",
   "execution_count": 14,
   "metadata": {},
   "outputs": [],
   "source": [
    "for i in range(len(files)):\n",
    "    with open('trash/'+files[i]) as f:\n",
    "        if (re.match(r'[\\w\\.-]+@[\\w\\.-]+', f.read())):\n",
    "                f.close();\n",
    "                shutil.move(\"trash/{}\".format(files[i]), \"filter/{}\".format(files[i]))"
   ]
  },
  {
   "cell_type": "code",
   "execution_count": 16,
   "metadata": {},
   "outputs": [],
   "source": [
    "for i in range(len(files)):\n",
    "    with open('trash/{}'.format(files[i])) as f:\n",
    "        if ('http' in f.read()):\n",
    "            f.close()\n",
    "            shutil.move(\"trash/{}\".format(files[i]), \"filter/{}\".format(files[i]))"
   ]
  }
 ],
 "metadata": {
  "kernelspec": {
   "display_name": "Python 3",
   "language": "python",
   "name": "python3"
  },
  "language_info": {
   "codemirror_mode": {
    "name": "ipython",
    "version": 3
   },
   "file_extension": ".py",
   "mimetype": "text/x-python",
   "name": "python",
   "nbconvert_exporter": "python",
   "pygments_lexer": "ipython3",
   "version": "3.6.9"
  }
 },
 "nbformat": 4,
 "nbformat_minor": 2
}
