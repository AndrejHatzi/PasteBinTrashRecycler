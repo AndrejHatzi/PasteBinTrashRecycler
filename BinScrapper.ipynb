{
 "cells": [
  {
   "cell_type": "code",
   "execution_count": 1,
   "metadata": {},
   "outputs": [],
   "source": [
    "from selenium import webdriver;\n",
    "from selenium.webdriver.common.keys import Keys;\n",
    "from selenium.webdriver.firefox.options import Options;\n",
    "import time;"
   ]
  },
  {
   "cell_type": "code",
   "execution_count": 2,
   "metadata": {},
   "outputs": [],
   "source": [
    "options=Options();\n",
    "options.headless= True;\n",
    "driver=webdriver.Firefox(options=options);"
   ]
  },
  {
   "cell_type": "code",
   "execution_count": 3,
   "metadata": {},
   "outputs": [],
   "source": [
    "driver.get('https://pastebin.com/')"
   ]
  },
  {
   "cell_type": "code",
   "execution_count": 4,
   "metadata": {},
   "outputs": [],
   "source": [
    "prebuilt_a_hrefs = ['https://pastebin.com/pro', 'https://pastebin.com/api', 'https://pastebin.com/tools', 'https://pastebin.com/faq', 'https://deals.pastebin.com/', 'https://pastebin.com/login', 'https://pastebin.com/login', 'https://pastebin.com/messages', 'https://pastebin.com/alerts', 'https://pastebin.com/settings', 'https://pastebin.com/archive', 'https://pastebin.com/pro?help=1', 'https://pastebin.com/pro?help=1', 'https://pastebin.com/signup', 'https://pastebin.com/login', 'https://pastebin.com/signup', 'https://pastebin.com/login', 'https://pastebin.com/doc_cookies_policy', 'https://srv.carbonads.net/ads/click/x/GTND42QWCAAD4K77F674YKQMCESI52Q7F6SDTZ3JCWBD55QLCWBD5K7KC6BIV27YC67DEK3EHJNCLSIZ?segment=placement:pastebincom;', 'https://srv.carbonads.net/ads/click/x/GTND42QWCAAD4K77F674YKQMCESI52Q7F6SDTZ3JCWBD55QLCWBD5K7KC6BIV27YC67DEK3EHJNCLSIZ?segment=placement:pastebincom;', 'http://carbonads.net/?utm_source=pastebincom&utm_medium=ad_via_link&utm_campaign=in_unit&utm_term=carbon', 'https://pastebin.com/tools#chrome', 'https://pastebin.com/tools#firefox', 'https://pastebin.com/tools#iphone', 'https://pastebin.com/tools#windows', 'https://pastebin.com/tools#android', 'https://pastebin.com/tools#macos', 'https://pastebin.com/tools#opera', 'https://pastebin.com/tools#pastebincl', 'https://pastebin.com/', 'https://deals.pastebin.com/', 'https://pastebin.com/languages', 'https://pastebin.com/archive', 'https://pastebin.com/faq', 'https://pastebin.com/tools', 'https://pastebin.com/night_mode', 'https://pastebin.com/api', 'https://pastebin.com/doc_scraping_api', 'https://pastebin.com/pro', 'https://pastebin.com/doc_privacy_statement', 'https://pastebin.com/doc_cookies_policy', 'https://pastebin.com/doc_terms_of_service', 'https://pastebin.com/doc_security_disclosure', 'https://pastebin.com/dmca', 'https://pastebin.com/contact', 'https://pastebin.com/doc_cookies_policy', 'http://creativecommons.org/licenses/by-sa/3.0/', 'http://steadfast.net/services/dedicated-servers.php?utm_source=pastebin.com&utm_medium=referral&utm_content=footer_link_dedicated_server_hosting_by&utm_campaign=referral_20140118_x_x_pastebin_partner&source=referral_20140118_x_x_pastebin_partner', 'http://steadfast.net/?utm_source=pastebin.com&utm_medium=referral&utm_content=footer_link_steadfast&utm_campaign=referral_20140118_x_x_pastebin_partner&source=referral_20140118_x_x_pastebin_partner', 'https://facebook.com/pastebin', 'https://twitter.com/pastebin', 'https://pastebin.com/#0', 'https://srv.carbonads.net/ads/click/x/GTND42QWCAAI6KJJCW74YKQMCESIE2QICEADTZ3JCWBD553JF6YD5K3KC6BIV27YF6AI6K3EHJNCLSIZ?segment=placement:pastebincom;', 'https://pastebin.com/archive/text']"
   ]
  },
  {
   "cell_type": "code",
   "execution_count": 5,
   "metadata": {},
   "outputs": [],
   "source": [
    "driver.refresh()\n",
    "elems = driver.find_elements_by_xpath(\"//a[@href]\")\n",
    "links_to_visit = []\n",
    "for elem in elems:\n",
    "    link = (elem.get_attribute(\"href\"))\n",
    "    if 'ads' not in link:\n",
    "        if '/embed/' not in link:\n",
    "            if '/dl/' not in link:\n",
    "                if '/raw/' not in link:\n",
    "                    if link not in prebuilt_a_hrefs:\n",
    "                        links_to_visit.append(link)"
   ]
  },
  {
   "cell_type": "code",
   "execution_count": 6,
   "metadata": {},
   "outputs": [
    {
     "data": {
      "text/plain": [
       "['https://pastebin.com/rkQP6e4X',\n",
       " 'https://pastebin.com/ZcNexqxs',\n",
       " 'https://pastebin.com/WkxMU3HG',\n",
       " 'https://pastebin.com/pSM3fVY2',\n",
       " 'https://pastebin.com/W2vwf4w5',\n",
       " 'https://pastebin.com/CBH7YHEC',\n",
       " 'https://pastebin.com/rqhUj3Gn',\n",
       " 'https://pastebin.com/dXM9Xecp']"
      ]
     },
     "execution_count": 6,
     "metadata": {},
     "output_type": "execute_result"
    }
   ],
   "source": [
    "links_to_visit"
   ]
  },
  {
   "cell_type": "code",
   "execution_count": 7,
   "metadata": {},
   "outputs": [],
   "source": [
    "driver.get(links_to_visit[0])"
   ]
  },
  {
   "cell_type": "code",
   "execution_count": 8,
   "metadata": {},
   "outputs": [
    {
     "name": "stdout",
     "output_type": "stream",
     "text": [
      "iptables -A INPUT -s 175.180.136.139 -j DROP && iptables -I INPUT -s 175.180.136.139 -j DROP && route add 175.180.136 reject\n",
      "iptables -A INPUT -s 196.6.232.32 -j DROP && iptables -I INPUT -s 196.6.232.32 -j DROP && route add 196.6.232 reject\n",
      "iptables -A INPUT -s 62.41.60.106 -j DROP && iptables -I INPUT -s 62.41.60.106 -j DROP && route add 62.41.60 reject\n",
      "iptables -A INPUT -s 200.89.104.234 -j DROP && iptables -I INPUT -s 200.89.104.234 -j DROP && route add 200.89.104 reject\n",
      "iptables -A INPUT -s 41.60.220.38 -j DROP && iptables -I INPUT -s 41.60.220.38 -j DROP && route add 41.60.220 reject\n",
      "iptables -A INPUT -s 117.191.11.105 -j DROP && iptables -I INPUT -s 117.191.11.105 -j DROP && route add 117.191.11 reject\n"
     ]
    }
   ],
   "source": [
    "content = driver.find_element_by_id('selectable')\n",
    "print(content.text)"
   ]
  },
  {
   "cell_type": "code",
   "execution_count": 12,
   "metadata": {},
   "outputs": [],
   "source": [
    "links_to_visit = []"
   ]
  },
  {
   "cell_type": "code",
   "execution_count": 5,
   "metadata": {},
   "outputs": [],
   "source": [
    "def on_load_download(prebuilt_a_hrefs):\n",
    "    \n",
    "    r = 0\n",
    "    while r < 50:\n",
    "        driver.refresh()\n",
    "        elems = driver.find_elements_by_xpath(\"//a[@href]\")\n",
    "        links_to_visit = []\n",
    "        errors = []\n",
    "        for elem in elems:\n",
    "            link = (elem.get_attribute(\"href\"))\n",
    "            if 'ads' not in link:\n",
    "                if '/embed/' not in link:\n",
    "                    if '/dl/' not in link:\n",
    "                        if '/raw/' not in link:\n",
    "                            if link not in prebuilt_a_hrefs:\n",
    "                                links_to_visit.append(link)\n",
    "\n",
    "        for i in range(len(links_to_visit)):\n",
    "            driver.get(links_to_visit[i])\n",
    "            dot_index = links_to_visit[i].index('.')\n",
    "            file_name = links_to_visit[i][dot_index+4:]\n",
    "            try:\n",
    "                content = driver.find_element_by_id('selectable')\n",
    "            except:\n",
    "                prebuilt_a_hrefs.append(links_to_visit[i])\n",
    "            file = file_name+\".txt\"\n",
    "            lcl = 'beautifulojn_trashojn/'+file\n",
    "            try:\n",
    "                with open(lcl, 'w+') as f:\n",
    "                    try:\n",
    "                        f.write(content.text)\n",
    "                    except:\n",
    "                        errors.append(links_to_visit[i])\n",
    "            except:\n",
    "                print('@t', links_to_visit[i])\n",
    "                with open('usnfls.kak', 'a') as f:\n",
    "                    try:\n",
    "                        f.append(links_to_visit[i])\n",
    "                    except:\n",
    "                        errors.append(links_to_visit[i])\n",
    "        r += 1\n",
    "        print('@e', errors)"
   ]
  },
  {
   "cell_type": "code",
   "execution_count": 6,
   "metadata": {},
   "outputs": [
    {
     "name": "stdout",
     "output_type": "stream",
     "text": [
      "@e ['https://pastebin.com/0Lt8NJDw']\n",
      "@t https://pastebin.com/index/g8sCa3D6\n",
      "@t https://pastebin.com/report/g8sCa3D6\n",
      "@t https://pastebin.com/print/g8sCa3D6\n",
      "@e ['https://pastebin.com/VeR1jiAm', 'https://pastebin.com/0Lt8NJDw', 'https://pastebin.com/index/g8sCa3D6', 'https://pastebin.com/report/g8sCa3D6', 'https://pastebin.com/print/g8sCa3D6']\n",
      "@e ['https://pastebin.com/VeR1jiAm', 'https://pastebin.com/0Lt8NJDw']\n",
      "@e ['https://pastebin.com/VeR1jiAm']\n",
      "@e ['https://pastebin.com/vn2uVRSB', 'https://pastebin.com/VeR1jiAm']\n",
      "@e ['https://pastebin.com/vn2uVRSB']\n",
      "@e ['https://pastebin.com/c79a5vV3']\n",
      "@e ['https://pastebin.com/c79a5vV3']\n",
      "@e ['https://pastebin.com/c79a5vV3']\n",
      "@e []\n",
      "@e ['https://pastebin.com/ccjvMegn']\n",
      "@e ['https://pastebin.com/ccjvMegn']\n",
      "@e []\n",
      "@e ['https://pastebin.com/R8MCAuur']\n",
      "@e ['https://pastebin.com/R8MCAuur']\n",
      "@e []\n",
      "@e []\n",
      "@e []\n",
      "@e []\n",
      "@e []\n",
      "@e ['https://pastebin.com/gR0BmSQ4', 'https://pastebin.com/v0U7S3qJ']\n",
      "@e ['https://pastebin.com/gR0BmSQ4']\n",
      "@e ['https://pastebin.com/gR0BmSQ4']\n",
      "@e []\n",
      "@e []\n",
      "@e []\n",
      "@e ['https://pastebin.com/uhGMVmef', 'https://pastebin.com/JCvd3XSV', 'https://pastebin.com/LXG3EkjY']\n",
      "@e ['https://pastebin.com/BKhCkiE2', 'https://pastebin.com/uhGMVmef']\n",
      "@e ['https://pastebin.com/BKhCkiE2']\n",
      "@e []\n",
      "@e ['https://pastebin.com/pFyDUbe9']\n",
      "@e ['https://pastebin.com/wGMpCDW0', 'https://pastebin.com/pFyDUbe9']\n",
      "@e ['https://pastebin.com/wGMpCDW0']\n",
      "@e []\n",
      "@e ['https://pastebin.com/Qc37xrna', 'https://pastebin.com/Q9EWx9rG', 'https://pastebin.com/VGH9kKeF']\n",
      "@e ['https://pastebin.com/Qc37xrna', 'https://pastebin.com/Q9EWx9rG', 'https://pastebin.com/VGH9kKeF']\n",
      "@e []\n",
      "@e []\n",
      "@e ['https://pastebin.com/rtpT4bzU', 'https://pastebin.com/rUhLtge2']\n",
      "@e []\n",
      "@e ['https://pastebin.com/zb6Ge2N3', 'https://pastebin.com/9sqiJcsk']\n",
      "@e ['https://pastebin.com/zb6Ge2N3', 'https://pastebin.com/9sqiJcsk']\n",
      "@e ['https://pastebin.com/SKp6c83f']\n",
      "@e ['https://pastebin.com/SKp6c83f']\n",
      "@e []\n",
      "@e []\n",
      "@e ['https://pastebin.com/x0Y1Fanc']\n",
      "@e ['https://pastebin.com/wJa7UbUQ']\n",
      "@e ['https://pastebin.com/wJa7UbUQ']\n",
      "@e ['https://pastebin.com/X1SuCb95', 'https://pastebin.com/nA24uPNj']\n"
     ]
    }
   ],
   "source": [
    "driver.get('https://pastebin.com/')\n",
    "on_load_download(prebuilt_a_hrefs)"
   ]
  }
 ],
 "metadata": {
  "kernelspec": {
   "display_name": "Python 3",
   "language": "python",
   "name": "python3"
  },
  "language_info": {
   "codemirror_mode": {
    "name": "ipython",
    "version": 3
   },
   "file_extension": ".py",
   "mimetype": "text/x-python",
   "name": "python",
   "nbconvert_exporter": "python",
   "pygments_lexer": "ipython3",
   "version": "3.6.5"
  }
 },
 "nbformat": 4,
 "nbformat_minor": 2
}
