{
 "cells": [
  {
   "cell_type": "code",
   "execution_count": 1,
   "metadata": {},
   "outputs": [],
   "source": [
    "import os\n",
    "import shutil"
   ]
  },
  {
   "cell_type": "code",
   "execution_count": 2,
   "metadata": {},
   "outputs": [],
   "source": [
    "files = os.listdir('beautiful_trash')"
   ]
  },
  {
   "cell_type": "code",
   "execution_count": null,
   "metadata": {},
   "outputs": [],
   "source": [
    "patterns = {\n",
    "    '' : '',\n",
    "    '' : ''\n",
    "}"
   ]
  },
  {
   "cell_type": "code",
   "execution_count": 3,
   "metadata": {
    "scrolled": true
   },
   "outputs": [],
   "source": [
    "patterns = ['string']\n",
    "has = False\n",
    "for i in range(len(files)):\n",
    "    with open('beautiful_trash/'+files[i]) as f:\n",
    "         if (('@gmail.com' in f.read()) or ('username' in f.read()) or ('login' in f.read()) or ('password' in f.read()) or ('wp-' in f.read()) or ('email' in f.read()) or ('drive' in f.read()) or ('.nz' in f.read()) or ('Password' in f.read()) or ('admin'  in f.read())):\n",
    "                has = True\n",
    "    if has == True:\n",
    "        shutil.move(\"beautiful_trash/{}\".format(files[i]), \"filter/{}\".format(files[i]))\n",
    "        #print('@t')\n",
    "        has = False\n",
    "                    \n",
    "                    "
   ]
  },
  {
   "cell_type": "code",
   "execution_count": null,
   "metadata": {},
   "outputs": [],
   "source": [
    "for i in range(len(files)):\n",
    "    with open('beautiful_trash/'+files[i]) as f:\n",
    "        x = f.read()\n",
    "        \n",
    "    "
   ]
  }
 ],
 "metadata": {
  "kernelspec": {
   "display_name": "Python 3",
   "language": "python",
   "name": "python3"
  },
  "language_info": {
   "codemirror_mode": {
    "name": "ipython",
    "version": 3
   },
   "file_extension": ".py",
   "mimetype": "text/x-python",
   "name": "python",
   "nbconvert_exporter": "python",
   "pygments_lexer": "ipython3",
   "version": "3.6.5"
  }
 },
 "nbformat": 4,
 "nbformat_minor": 2
}
